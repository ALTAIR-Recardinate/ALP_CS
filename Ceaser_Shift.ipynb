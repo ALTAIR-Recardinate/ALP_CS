{
  "nbformat": 4,
  "nbformat_minor": 0,
  "metadata": {
    "colab": {
      "provenance": [],
      "include_colab_link": true
    },
    "kernelspec": {
      "name": "python3",
      "display_name": "Python 3"
    },
    "language_info": {
      "name": "python"
    }
  },
  "cells": [
    {
      "cell_type": "markdown",
      "metadata": {
        "id": "view-in-github",
        "colab_type": "text"
      },
      "source": [
        "<a href=\"https://colab.research.google.com/github/ALTAIR-Recardinate/ALP_CS/blob/main/Ceaser_Shift.ipynb\" target=\"_parent\"><img src=\"https://colab.research.google.com/assets/colab-badge.svg\" alt=\"Open In Colab\"/></a>"
      ]
    },
    {
      "cell_type": "markdown",
      "source": [
        "#Ceaser Shift\n",
        "\n",
        "This is a simple cipher read more [here](https://en.wikipedia.org/wiki/Caesar_cipher). Find out how the cipher works and then try to code it.\n",
        "\n",
        "Below you will find a simple version of the code. It is not as sophisticated as it has a lot of limitations but try to give it a go and solve it.\n",
        "\n",
        "Find out what the mod does in python."
      ],
      "metadata": {
        "id": "11Mf7GhuTuEY"
      }
    },
    {
      "cell_type": "code",
      "source": [
        "# Try putting % between two numbers. Can you figure out what operation does the % symbol reponsible for?\n",
        "#E.g.\n",
        "print(3%5)\n"
      ],
      "metadata": {
        "colab": {
          "base_uri": "https://localhost:8080/"
        },
        "id": "T_vmEKNUWdwv",
        "outputId": "ebd44c1c-d910-447a-f55f-069331920100"
      },
      "execution_count": null,
      "outputs": [
        {
          "output_type": "stream",
          "name": "stdout",
          "text": [
            "3\n"
          ]
        }
      ]
    },
    {
      "cell_type": "code",
      "execution_count": null,
      "metadata": {
        "id": "mphIKssQTrhx",
        "colab": {
          "base_uri": "https://localhost:8080/"
        },
        "outputId": "468f831a-8bc2-42b8-b535-0b99f34ccb0f"
      },
      "outputs": [
        {
          "output_type": "stream",
          "name": "stdout",
          "text": [
            "MJQQTEATWQI\n",
            "HELLO WORLD\n"
          ]
        }
      ],
      "source": [
        "alpha = \"ABCDEFGHIJKLMNOPQRSTUVWXYZ \"\n",
        "\n",
        "def caesar_encode(text, n):\n",
        "    answerList = []\n",
        "    for letter in text:\n",
        "        ind = alpha.index(letter)\n",
        "        ind += n\n",
        "        ind %= 27\n",
        "        answerList.append(alpha[ind])\n",
        "    return \"\".join(answerList)\n",
        "\n",
        "def caesar_decode(text, n):\n",
        "    answerList = []\n",
        "    for letter in text:\n",
        "        ind = alpha.index(letter)\n",
        "        ind -= n\n",
        "        ind %= 27\n",
        "        answerList.append(alpha[ind])\n",
        "    return \"\".join(answerList)\n",
        "\n",
        "test = \"HELLO WORLD\"\n",
        "shift = 5\n",
        "print(caesar_encode(test,shift))\n",
        "print(caesar_decode(caesar_encode(test,shift),shift))\n",
        "\n",
        "\n"
      ]
    },
    {
      "cell_type": "markdown",
      "source": [
        "##Encode"
      ],
      "metadata": {
        "id": "e7iqfr1vUjHo"
      }
    },
    {
      "cell_type": "code",
      "source": [
        "enc = caesar_encode(test, shift)\n",
        "print(enc)"
      ],
      "metadata": {
        "colab": {
          "base_uri": "https://localhost:8080/"
        },
        "id": "xUgikMWaUN5N",
        "outputId": "01c20fe7-16af-45be-af10-1b8bc9eaf581"
      },
      "execution_count": null,
      "outputs": [
        {
          "output_type": "stream",
          "name": "stdout",
          "text": [
            "MJQQTEATWQI\n"
          ]
        }
      ]
    },
    {
      "cell_type": "markdown",
      "source": [
        "##Decode\n",
        "\n",
        "complete the missing code."
      ],
      "metadata": {
        "id": "gflev3gAUeDI"
      }
    },
    {
      "cell_type": "code",
      "source": [
        "dec = caesar_decode(enc, shift)\n",
        "print(dec)"
      ],
      "metadata": {
        "colab": {
          "base_uri": "https://localhost:8080/"
        },
        "id": "GcRnbg3EUdQa",
        "outputId": "6e8d6ffa-d5b7-40b8-ba87-374023ce4d87"
      },
      "execution_count": null,
      "outputs": [
        {
          "output_type": "stream",
          "name": "stdout",
          "text": [
            "HELLO WORLD\n"
          ]
        }
      ]
    },
    {
      "cell_type": "code",
      "source": [
        "text = input(\"text: \")\n",
        "n = int(input(\"shift: \"))\n",
        "print(caesar_encode(text,n))"
      ],
      "metadata": {
        "id": "Hbs6jWU-U0ry",
        "colab": {
          "base_uri": "https://localhost:8080/"
        },
        "outputId": "07015174-2f90-4e07-9c8f-c6ac63997a66"
      },
      "execution_count": null,
      "outputs": [
        {
          "output_type": "stream",
          "name": "stdout",
          "text": [
            "text: HELLO WORLD\n",
            "shift: 5\n",
            "MJQQTEATWQI\n"
          ]
        }
      ]
    },
    {
      "cell_type": "markdown",
      "source": [
        "1. Make a version of the Cipher where you involve the user to encode and decode. You can make use of the input command.\n",
        "2. What if you wanted the cipher to include spaces and numbers? How would you change it? Try it.\n",
        "3. Can you make this into a sub routine?"
      ],
      "metadata": {
        "id": "3cXWwMu6XEBw"
      }
    },
    {
      "cell_type": "code",
      "source": [
        "text = input(\"text: \")\n",
        "for i in range(1,27):\n",
        "  print(caesar_decode(text,i))"
      ],
      "metadata": {
        "id": "WyT7h4qaXyHg",
        "colab": {
          "base_uri": "https://localhost:8080/"
        },
        "outputId": "a83e95f7-2350-4bdb-b875-aa43d310a98a"
      },
      "execution_count": null,
      "outputs": [
        {
          "output_type": "stream",
          "name": "stdout",
          "text": [
            "text: MJQQTEATWQI\n",
            "LIPPSD SVPH\n",
            "KHOORCZRUOG\n",
            "JGNNQBYQTNF\n",
            "IFMMPAXPSME\n",
            "HELLO WORLD\n",
            "GDKKNZVNQKC\n",
            "FCJJMYUMPJB\n",
            "EBIILXTLOIA\n",
            "DAHHKWSKNH \n",
            "C GGJVRJMGZ\n",
            "BZFFIUQILFY\n",
            "AYEEHTPHKEX\n",
            " XDDGSOGJDW\n",
            "ZWCCFRNFICV\n",
            "YVBBEQMEHBU\n",
            "XUAADPLDGAT\n",
            "WT  COKCF S\n",
            "VSZZBNJBEZR\n",
            "URYYAMIADYQ\n",
            "TQXX LH CXP\n",
            "SPWWZKGZBWO\n",
            "ROVVYJFYAVN\n",
            "QNUUXIEX UM\n",
            "PMTTWHDWZTL\n",
            "OLSSVGCVYSK\n",
            "NKRRUFBUXRJ\n"
          ]
        }
      ]
    }
  ]
}