{
  "nbformat": 4,
  "nbformat_minor": 0,
  "metadata": {
    "colab": {
      "provenance": [],
      "include_colab_link": true
    },
    "kernelspec": {
      "name": "python3",
      "display_name": "Python 3"
    },
    "language_info": {
      "name": "python"
    }
  },
  "cells": [
    {
      "cell_type": "markdown",
      "metadata": {
        "id": "view-in-github",
        "colab_type": "text"
      },
      "source": [
        "<a href=\"https://colab.research.google.com/github/ALTAIR-Recardinate/ALP_CS/blob/main/SubsCipherANDVignerCipher.ipynb\" target=\"_parent\"><img src=\"https://colab.research.google.com/assets/colab-badge.svg\" alt=\"Open In Colab\"/></a>"
      ]
    },
    {
      "cell_type": "code",
      "execution_count": null,
      "metadata": {
        "id": "DdYVlFP1VI70"
      },
      "outputs": [],
      "source": []
    },
    {
      "cell_type": "markdown",
      "source": [
        "# More Ciphers\n",
        "\n",
        "## Substitution Cipher\n",
        "\n",
        "Yesterday you did the caeser shift and today we will do a similar cipher. Instead of shifting the letters we will substitute them with another letter.\n",
        "\n",
        "Below you will find an incomplete code that is one way to do the Substituion Cipher. Try to see if you can finish it.\n",
        "\n",
        "After you finish the code then try to make your own variation."
      ],
      "metadata": {
        "id": "nJiSe-fYVMhS"
      }
    },
    {
      "cell_type": "code",
      "source": [
        "import random\n",
        "\n",
        "alpha = \"ABCDEFGHIJKLMNOPQRSTUVWXYZ\"\n",
        "\n",
        "def sub_encode(text, codebet):\n",
        "    encode = \"\"\n",
        "    for i in range(len(text)):\n",
        "      encode += codebet[alpha.index(text[i])]\n",
        "    return encode\n",
        "\n",
        "def sub_decode(text, codebet):\n",
        "    decode = \"\"\n",
        "    for i in range(len(text)):\n",
        "      decode += alpha[codebet.index(text[i])]\n",
        "    return decode\n",
        "\n",
        "test = \"HELLOWORLD\"\n",
        "\n",
        "# randomly mixed alphabets\n",
        "cipher_alphabet = ''.join(random.sample(alpha, len(alpha)))\n",
        "\n",
        "enc = sub_encode(test, cipher_alphabet)\n",
        "\n",
        "\n",
        "dec = sub_decode(enc, cipher_alphabet)\n",
        "print(enc)\n",
        "print(dec)\n",
        "\n",
        "# If this worked, dec should be the same as the input.\n"
      ],
      "metadata": {
        "id": "92bv5mNyVrpk",
        "colab": {
          "base_uri": "https://localhost:8080/"
        },
        "outputId": "5b6000ce-9421-4593-90d1-578efc7f19da"
      },
      "execution_count": null,
      "outputs": [
        {
          "output_type": "stream",
          "name": "stdout",
          "text": [
            "EVQQJNJFQZ\n",
            "HELLOWORLD\n"
          ]
        }
      ]
    },
    {
      "cell_type": "code",
      "source": [
        "#If stuck ask EA for hints.\n"
      ],
      "metadata": {
        "id": "cSJoLcIGW7n9"
      },
      "execution_count": null,
      "outputs": []
    },
    {
      "cell_type": "markdown",
      "source": [
        "#Gradio\n",
        "\n",
        "Try using gradio. To import it you first must install it into google colab. To install something you can use the 'pip' command.\n",
        "\n",
        "```\n",
        "# Run the following in a code block\n",
        "\n",
        "!pip install gradio\n",
        "```\n",
        "\n"
      ],
      "metadata": {
        "id": "VES5r87tXNMm"
      }
    },
    {
      "cell_type": "code",
      "source": [
        "# !pip install gradio"
      ],
      "metadata": {
        "id": "ADWZJhpEWsXb"
      },
      "execution_count": null,
      "outputs": []
    },
    {
      "cell_type": "code",
      "source": [
        "#Here is some example code that you may run.\n",
        "#There is a link that you can use to see it in the browser.\n",
        "\n",
        "import gradio as gr\n",
        "\n",
        "def greet(name, intensity):\n",
        "    return \"Hello, \" + name + \"!\" * int(intensity)\n",
        "\n",
        "demo = gr.Interface(\n",
        "    fn=greet,\n",
        "    inputs=[\"text\", \"slider\"],\n",
        "    outputs=[\"text\"],\n",
        ")\n",
        "\n",
        "demo.launch()\n",
        "\n"
      ],
      "metadata": {
        "colab": {
          "base_uri": "https://localhost:8080/",
          "height": 395
        },
        "id": "Tb8QvfwFXcIu",
        "outputId": "80403507-dd46-48cd-823d-d52ca5552ebe"
      },
      "execution_count": null,
      "outputs": [
        {
          "output_type": "error",
          "ename": "ModuleNotFoundError",
          "evalue": "No module named 'gradio'",
          "traceback": [
            "\u001b[0;31m---------------------------------------------------------------------------\u001b[0m",
            "\u001b[0;31mModuleNotFoundError\u001b[0m                       Traceback (most recent call last)",
            "\u001b[0;32m<ipython-input-5-1aa05afc15b8>\u001b[0m in \u001b[0;36m<cell line: 4>\u001b[0;34m()\u001b[0m\n\u001b[1;32m      2\u001b[0m \u001b[0;31m#There is a link that you can use to see it in the browser.\u001b[0m\u001b[0;34m\u001b[0m\u001b[0;34m\u001b[0m\u001b[0m\n\u001b[1;32m      3\u001b[0m \u001b[0;34m\u001b[0m\u001b[0m\n\u001b[0;32m----> 4\u001b[0;31m \u001b[0;32mimport\u001b[0m \u001b[0mgradio\u001b[0m \u001b[0;32mas\u001b[0m \u001b[0mgr\u001b[0m\u001b[0;34m\u001b[0m\u001b[0;34m\u001b[0m\u001b[0m\n\u001b[0m\u001b[1;32m      5\u001b[0m \u001b[0;34m\u001b[0m\u001b[0m\n\u001b[1;32m      6\u001b[0m \u001b[0;32mdef\u001b[0m \u001b[0mgreet\u001b[0m\u001b[0;34m(\u001b[0m\u001b[0mname\u001b[0m\u001b[0;34m,\u001b[0m \u001b[0mintensity\u001b[0m\u001b[0;34m)\u001b[0m\u001b[0;34m:\u001b[0m\u001b[0;34m\u001b[0m\u001b[0;34m\u001b[0m\u001b[0m\n",
            "\u001b[0;31mModuleNotFoundError\u001b[0m: No module named 'gradio'",
            "",
            "\u001b[0;31m---------------------------------------------------------------------------\u001b[0;32m\nNOTE: If your import is failing due to a missing package, you can\nmanually install dependencies using either !pip or !apt.\n\nTo view examples of installing some common dependencies, click the\n\"Open Examples\" button below.\n\u001b[0;31m---------------------------------------------------------------------------\u001b[0m\n"
          ],
          "errorDetails": {
            "actions": [
              {
                "action": "open_url",
                "actionText": "Open Examples",
                "url": "/notebooks/snippets/importing_libraries.ipynb"
              }
            ]
          }
        }
      ]
    },
    {
      "cell_type": "markdown",
      "source": [
        "You will need to look through the documentation to figure out how to use [Gradio](https://www.gradio.app/)"
      ],
      "metadata": {
        "id": "0mo96bReaU40"
      }
    },
    {
      "cell_type": "markdown",
      "source": [
        "#Vigner Cipher\n",
        "\n",
        "Given below is the Vigner Cipher. Yes, it is a working code.\n",
        "\n",
        "1. Your task is to understand how this Vigner Cipher works and wirte comments for the code.\n",
        "\n",
        "2. Time permitting, modify the code and make a gradio app to interact with the Vigner Cipher"
      ],
      "metadata": {
        "id": "hn_ikt66Y0Jp"
      }
    },
    {
      "cell_type": "code",
      "source": [
        "from math import ceil\n",
        "\n",
        "alpha = \"ABCDEFGHIJKLMNOPQRSTUVWXYZ \"\n",
        "\n",
        "def vig_encode(text, keyword):\n",
        "    encoded = []\n",
        "    for i in range(len(text)):\n",
        "        num = alpha.index(text[i]) + alpha.index(keyword[i])\n",
        "        encoded.append(alpha[num % len(alpha)])\n",
        "    return \"\".join(encoded)\n",
        "\n",
        "def vig_decode(text, keyword):\n",
        "    decoded = []\n",
        "    for i in range(len(text)):\n",
        "        num = alpha.index(text[i]) - alpha.index(keyword[i])\n",
        "        decoded.append(alpha[num % len(alpha)])\n",
        "    return \"\".join(decoded)\n",
        "\n",
        "test = input(\"Enter message to encode: \").upper()\n",
        "vig_key = input(\"Enter keyword: \").upper()\n",
        "\n",
        "keyList = []\n",
        "for i in range(ceil(len(test) / len(vig_key))):\n",
        "    keyList.append(vig_key)\n",
        "vig_key = \"\".join(keyList)\n",
        "\n",
        "enc = vig_encode(test, vig_key)\n",
        "dec = vig_decode(enc, vig_key)\n",
        "print(enc)\n",
        "print(dec)\n",
        "\n"
      ],
      "metadata": {
        "id": "1clgQ-O-ZQRK",
        "outputId": "24568125-a3f4-4fe9-d2c5-4b30d873fd45",
        "colab": {
          "base_uri": "https://localhost:8080/"
        }
      },
      "execution_count": null,
      "outputs": [
        {
          "output_type": "stream",
          "name": "stdout",
          "text": [
            "Enter message to encode: test code here\n",
            "Enter keyword: trail\n",
            "LVSAKVEDMK VRM\n",
            "TEST CODE HERE\n"
          ]
        }
      ]
    },
    {
      "cell_type": "markdown",
      "source": [
        "#Explain the Vigner Cipher\n",
        "\n",
        "Please explain how the Vigner Cipher works."
      ],
      "metadata": {
        "id": "UkIeCKglbXRR"
      }
    },
    {
      "cell_type": "code",
      "source": [],
      "metadata": {
        "id": "wEIW_up6ZY3a"
      },
      "execution_count": null,
      "outputs": []
    }
  ]
}