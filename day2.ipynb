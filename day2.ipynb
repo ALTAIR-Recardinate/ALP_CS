{
  "nbformat": 4,
  "nbformat_minor": 0,
  "metadata": {
    "colab": {
      "provenance": [],
      "authorship_tag": "ABX9TyOvcQQqE6YWQfmUnmaXAROC",
      "include_colab_link": true
    },
    "kernelspec": {
      "name": "python3",
      "display_name": "Python 3"
    },
    "language_info": {
      "name": "python"
    }
  },
  "cells": [
    {
      "cell_type": "markdown",
      "metadata": {
        "id": "view-in-github",
        "colab_type": "text"
      },
      "source": [
        "<a href=\"https://colab.research.google.com/github/ALTAIR-Recardinate/ALP_CS/blob/main/day2.ipynb\" target=\"_parent\"><img src=\"https://colab.research.google.com/assets/colab-badge.svg\" alt=\"Open In Colab\"/></a>"
      ]
    },
    {
      "cell_type": "code",
      "execution_count": null,
      "metadata": {
        "id": "iE_HjdHAxHfo",
        "colab": {
          "base_uri": "https://localhost:8080/"
        },
        "outputId": "c1cdfc39-59a9-4665-8587-3f248725b670"
      },
      "outputs": [
        {
          "output_type": "stream",
          "name": "stdout",
          "text": [
            "1\n",
            "2\n",
            "3\n",
            "4\n",
            "5\n"
          ]
        }
      ],
      "source": [
        "counter = 1\n",
        "while counter <= 5:\n",
        "  print(counter)\n",
        "  counter += 1"
      ]
    },
    {
      "cell_type": "code",
      "source": [
        "counter = 5\n",
        "while 1 <= counter:\n",
        "  print(counter)\n",
        "  counter -= 1"
      ],
      "metadata": {
        "colab": {
          "base_uri": "https://localhost:8080/"
        },
        "id": "0rEgUrxY0UQk",
        "outputId": "407050e0-1dc2-4710-fd33-8dffec2d3677"
      },
      "execution_count": null,
      "outputs": [
        {
          "output_type": "stream",
          "name": "stdout",
          "text": [
            "5\n",
            "4\n",
            "3\n",
            "2\n",
            "1\n"
          ]
        }
      ]
    },
    {
      "cell_type": "code",
      "source": [
        "  correct = \"jungwook\"\n",
        "userName = \"\"\n",
        "while userName != correct:\n",
        "  userName = input(\"input username: \").lower()\n",
        "  if userName == correct:\n",
        "    print(\"correct\")\n",
        "  else:\n",
        "    print(\"incorrect\")\n",
        "\n"
      ],
      "metadata": {
        "id": "EPnbVnhN01vK",
        "colab": {
          "base_uri": "https://localhost:8080/"
        },
        "outputId": "74e3a13a-6cf0-48ed-9074-21c9d5a42150"
      },
      "execution_count": null,
      "outputs": [
        {
          "output_type": "stream",
          "name": "stdout",
          "text": [
            "input username: JUNGWOOK\n",
            "correct\n"
          ]
        }
      ]
    },
    {
      "cell_type": "code",
      "source": [
        "password = input(\"input your own password: \")\n",
        "check = input(\"check your password: \")\n",
        "while check != password:\n",
        "  check = input(\"incorrect, try again: \")\n",
        "print(\"password accepted\")"
      ],
      "metadata": {
        "colab": {
          "base_uri": "https://localhost:8080/"
        },
        "id": "jY6frVlY4kMV",
        "outputId": "fc164406-a9f5-4d47-a404-5851f2da1161"
      },
      "execution_count": null,
      "outputs": [
        {
          "output_type": "stream",
          "name": "stdout",
          "text": [
            "input your own password: ooo\n",
            "check your password: ddd\n",
            "incorrect, try again: ooo\n",
            "password accepted\n"
          ]
        }
      ]
    },
    {
      "cell_type": "code",
      "source": [
        "numbers = [None]*7\n",
        "for i in range(7):\n",
        "  numbers[i] = i\n",
        "\n",
        "index = int(input())\n",
        "if not 0 <= index <= 6:\n",
        "  print(\"index out of range\")\n",
        "else:\n",
        "  print(numbers[index])"
      ],
      "metadata": {
        "colab": {
          "base_uri": "https://localhost:8080/"
        },
        "id": "XxFn2KAt7f29",
        "outputId": "0a7bf722-7295-4089-b3f0-066cf927366b"
      },
      "execution_count": null,
      "outputs": [
        {
          "output_type": "stream",
          "name": "stdout",
          "text": [
            "5\n",
            "5\n"
          ]
        }
      ]
    },
    {
      "cell_type": "code",
      "source": [
        "zombieWeakness = (lambda weapon: \"sun\" in weapon)\n",
        "weapons = [\"perfect sword\", \"moonstone\", \"sunstone\", \"sword of legend\"]\n",
        "while True:\n",
        "  print(\"--------------------------------------------------------------------------------------\")\n",
        "  print(\"You accounted a zombie! Pick your weapon in the list\")\n",
        "  print(weapons)\n",
        "  weapon = input(\"select weapon: \")\n",
        "  if weapon in weapons:\n",
        "    print(\"you picked \" + weapon + \"!\")\n",
        "  else:\n",
        "    print(\"You brought your own weapon \" + weapon + \"!\")\n",
        "    weapons.append(weapon)\n",
        "  if zombieWeakness(weapon):\n",
        "    print(\"You won!\")\n",
        "    break\n",
        "  else:\n",
        "    print(\"You lose...\")"
      ],
      "metadata": {
        "colab": {
          "base_uri": "https://localhost:8080/"
        },
        "id": "w1KJn2Xp7geD",
        "outputId": "823dd974-1f75-4640-f99e-1ad8fe5c5d02"
      },
      "execution_count": null,
      "outputs": [
        {
          "output_type": "stream",
          "name": "stdout",
          "text": [
            "--------------------------------------------------------------------------------------\n",
            "You accounted a zombie! Pick your weapon in the list\n",
            "['perfect sword', 'moonstone', 'sunstone', 'sword of legend']\n",
            "select weapon: moon\n",
            "You brought your own weapon moon!\n",
            "You lose...\n",
            "--------------------------------------------------------------------------------------\n",
            "You accounted a zombie! Pick your weapon in the list\n",
            "['perfect sword', 'moonstone', 'sunstone', 'sword of legend', 'moon']\n",
            "select weapon: sunstone\n",
            "you picked sunstone!\n",
            "You won!\n"
          ]
        }
      ]
    },
    {
      "cell_type": "code",
      "source": [
        "def add(a,b):\n",
        "  return a+b\n",
        "def sub(a,b):\n",
        "  return a-b\n",
        "def mul(a,b):\n",
        "  return a*b\n",
        "def div(a,b):\n",
        "  return a/b\n",
        "\n",
        "num = input(\"input mode: \")\n",
        "a = int(input(\"first num: \"))\n",
        "b = int(input(\"second num: \"))\n",
        "if num == \"+\":\n",
        "  print(add(a,b))\n",
        "elif num == \"-\":\n",
        "  print(sub(a,b))\n",
        "elif num == \"*\":\n",
        "  print(mul(a,b))\n",
        "elif num == \"/\":\n",
        "  print(div(a,b))\n",
        "else:\n",
        "  print(\"unknown input\")"
      ],
      "metadata": {
        "id": "XNQ9IXJG7ggG",
        "colab": {
          "base_uri": "https://localhost:8080/"
        },
        "outputId": "62cee2ea-1b14-4b48-b902-ba836fed0573"
      },
      "execution_count": null,
      "outputs": [
        {
          "output_type": "stream",
          "name": "stdout",
          "text": [
            "input mode+\n",
            "first num1\n",
            "second num2\n",
            "3\n"
          ]
        }
      ]
    },
    {
      "cell_type": "code",
      "source": [
        "file = open(\"test.txt\",\"w\")\n",
        "file.write(\"will never come again\")\n"
      ],
      "metadata": {
        "colab": {
          "base_uri": "https://localhost:8080/"
        },
        "id": "bluwSnh2p4S9",
        "outputId": "284a9469-7569-44d8-f5c8-5f9f884788c0"
      },
      "execution_count": null,
      "outputs": [
        {
          "output_type": "execute_result",
          "data": {
            "text/plain": [
              "21"
            ]
          },
          "metadata": {},
          "execution_count": 34
        }
      ]
    },
    {
      "cell_type": "code",
      "source": [
        "file = open(\"test.txt\",\"w\")\n",
        "\n",
        "def paragraph(lines):\n",
        "  for line in lines:\n",
        "    file.write(line + \"\\n\")\n",
        "\n",
        "paragraph([\"aaefbwef\",\"ejubfrwf\"])"
      ],
      "metadata": {
        "id": "Nh7OuDiCv5fI"
      },
      "execution_count": null,
      "outputs": []
    }
  ]
}